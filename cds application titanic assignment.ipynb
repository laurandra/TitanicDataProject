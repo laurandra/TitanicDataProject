{
 "cells": [
  {
   "cell_type": "markdown",
   "id": "5fe1bebb",
   "metadata": {},
   "source": [
    "Overview of what I did: \n",
    "\n",
    "I examined the data and cleaned it to the best of my abilities, then I explore mostly the numerical columns of data. Commonly used methods include: groupby (to organize data into categories), .loc (to access the exact passengers I want to perform calculations on), .sum (to count passengers per category, specifically 'Survived' as 1 means passenger survived). I also used matplotlib to make some visuals such as pie charts and bar graphs! "
   ]
  },
  {
   "cell_type": "code",
   "execution_count": 1,
   "id": "8b08ec19",
   "metadata": {},
   "outputs": [],
   "source": [
    "import numpy as np\n",
    "import pandas as pd\n",
    "import matplotlib.pyplot as plt\n",
    "import os"
   ]
  },
  {
   "cell_type": "code",
   "execution_count": 2,
   "id": "597e412e",
   "metadata": {},
   "outputs": [],
   "source": [
    "titanic_data = pd.read_csv('titanic.csv')"
   ]
  },
  {
   "cell_type": "markdown",
   "id": "3c658736",
   "metadata": {},
   "source": [
    "About the data: \n",
    "this dataset contains information about the passengers on the Titanic\n",
    "\n",
    "Column Explanations (Some From Kaggle) and Observations: \n",
    "<ul>\n",
    "    <li>Survived: if 0, passenger died; if 1, passenger survived</li>\n",
    "    <li>Pclass: passenger class; 1 is first class (richest), 2 is second class (middle class), 3 is third class (poorest)</li>\n",
    "    <li>Name: last name given first, sex/marriage status given after last name (Miss. Mrs. or Mr.)</li>\n",
    "    <li>Age: given as a float</li>\n",
    "    <li>SibSp: # of siblings or spouse on board</li>\n",
    "    <li>Parch: # of parents or children on board</li>\n",
    "    <li>Ticket: price of ticket, how much passenger paid</li>\n",
    "    <li>Embarked: where the traveler mounted from; three possible values — Southampton, Cherbourg, and Queenstown</li>\n",
    "</ul>"
   ]
  },
  {
   "cell_type": "code",
   "execution_count": 3,
   "id": "2eb60879",
   "metadata": {},
   "outputs": [
    {
     "data": {
      "text/html": [
       "<div>\n",
       "<style scoped>\n",
       "    .dataframe tbody tr th:only-of-type {\n",
       "        vertical-align: middle;\n",
       "    }\n",
       "\n",
       "    .dataframe tbody tr th {\n",
       "        vertical-align: top;\n",
       "    }\n",
       "\n",
       "    .dataframe thead th {\n",
       "        text-align: right;\n",
       "    }\n",
       "</style>\n",
       "<table border=\"1\" class=\"dataframe\">\n",
       "  <thead>\n",
       "    <tr style=\"text-align: right;\">\n",
       "      <th></th>\n",
       "      <th>Survived</th>\n",
       "      <th>Pclass</th>\n",
       "      <th>Name</th>\n",
       "      <th>Sex</th>\n",
       "      <th>Age</th>\n",
       "      <th>SibSp</th>\n",
       "      <th>Parch</th>\n",
       "      <th>Ticket</th>\n",
       "      <th>Fare</th>\n",
       "      <th>Cabin</th>\n",
       "      <th>Embarked</th>\n",
       "    </tr>\n",
       "    <tr>\n",
       "      <th>PassengerId</th>\n",
       "      <th></th>\n",
       "      <th></th>\n",
       "      <th></th>\n",
       "      <th></th>\n",
       "      <th></th>\n",
       "      <th></th>\n",
       "      <th></th>\n",
       "      <th></th>\n",
       "      <th></th>\n",
       "      <th></th>\n",
       "      <th></th>\n",
       "    </tr>\n",
       "  </thead>\n",
       "  <tbody>\n",
       "    <tr>\n",
       "      <th>1</th>\n",
       "      <td>0</td>\n",
       "      <td>3</td>\n",
       "      <td>Braund, Mr. Owen Harris</td>\n",
       "      <td>male</td>\n",
       "      <td>22.0</td>\n",
       "      <td>1</td>\n",
       "      <td>0</td>\n",
       "      <td>A/5 21171</td>\n",
       "      <td>7.2500</td>\n",
       "      <td>NaN</td>\n",
       "      <td>S</td>\n",
       "    </tr>\n",
       "    <tr>\n",
       "      <th>2</th>\n",
       "      <td>1</td>\n",
       "      <td>1</td>\n",
       "      <td>Cumings, Mrs. John Bradley (Florence Briggs Th...</td>\n",
       "      <td>female</td>\n",
       "      <td>38.0</td>\n",
       "      <td>1</td>\n",
       "      <td>0</td>\n",
       "      <td>PC 17599</td>\n",
       "      <td>71.2833</td>\n",
       "      <td>C85</td>\n",
       "      <td>C</td>\n",
       "    </tr>\n",
       "    <tr>\n",
       "      <th>3</th>\n",
       "      <td>1</td>\n",
       "      <td>3</td>\n",
       "      <td>Heikkinen, Miss. Laina</td>\n",
       "      <td>female</td>\n",
       "      <td>26.0</td>\n",
       "      <td>0</td>\n",
       "      <td>0</td>\n",
       "      <td>STON/O2. 3101282</td>\n",
       "      <td>7.9250</td>\n",
       "      <td>NaN</td>\n",
       "      <td>S</td>\n",
       "    </tr>\n",
       "    <tr>\n",
       "      <th>4</th>\n",
       "      <td>1</td>\n",
       "      <td>1</td>\n",
       "      <td>Futrelle, Mrs. Jacques Heath (Lily May Peel)</td>\n",
       "      <td>female</td>\n",
       "      <td>35.0</td>\n",
       "      <td>1</td>\n",
       "      <td>0</td>\n",
       "      <td>113803</td>\n",
       "      <td>53.1000</td>\n",
       "      <td>C123</td>\n",
       "      <td>S</td>\n",
       "    </tr>\n",
       "    <tr>\n",
       "      <th>5</th>\n",
       "      <td>0</td>\n",
       "      <td>3</td>\n",
       "      <td>Allen, Mr. William Henry</td>\n",
       "      <td>male</td>\n",
       "      <td>35.0</td>\n",
       "      <td>0</td>\n",
       "      <td>0</td>\n",
       "      <td>373450</td>\n",
       "      <td>8.0500</td>\n",
       "      <td>NaN</td>\n",
       "      <td>S</td>\n",
       "    </tr>\n",
       "    <tr>\n",
       "      <th>...</th>\n",
       "      <td>...</td>\n",
       "      <td>...</td>\n",
       "      <td>...</td>\n",
       "      <td>...</td>\n",
       "      <td>...</td>\n",
       "      <td>...</td>\n",
       "      <td>...</td>\n",
       "      <td>...</td>\n",
       "      <td>...</td>\n",
       "      <td>...</td>\n",
       "      <td>...</td>\n",
       "    </tr>\n",
       "    <tr>\n",
       "      <th>887</th>\n",
       "      <td>0</td>\n",
       "      <td>2</td>\n",
       "      <td>Montvila, Rev. Juozas</td>\n",
       "      <td>male</td>\n",
       "      <td>27.0</td>\n",
       "      <td>0</td>\n",
       "      <td>0</td>\n",
       "      <td>211536</td>\n",
       "      <td>13.0000</td>\n",
       "      <td>NaN</td>\n",
       "      <td>S</td>\n",
       "    </tr>\n",
       "    <tr>\n",
       "      <th>888</th>\n",
       "      <td>1</td>\n",
       "      <td>1</td>\n",
       "      <td>Graham, Miss. Margaret Edith</td>\n",
       "      <td>female</td>\n",
       "      <td>NaN</td>\n",
       "      <td>0</td>\n",
       "      <td>0</td>\n",
       "      <td>112053</td>\n",
       "      <td>30.0000</td>\n",
       "      <td>B42</td>\n",
       "      <td>S</td>\n",
       "    </tr>\n",
       "    <tr>\n",
       "      <th>889</th>\n",
       "      <td>0</td>\n",
       "      <td>3</td>\n",
       "      <td>Johnston, Miss. Catherine Helen \"Carrie\"</td>\n",
       "      <td>female</td>\n",
       "      <td>NaN</td>\n",
       "      <td>1</td>\n",
       "      <td>2</td>\n",
       "      <td>W./C. 6607</td>\n",
       "      <td>23.4500</td>\n",
       "      <td>NaN</td>\n",
       "      <td>S</td>\n",
       "    </tr>\n",
       "    <tr>\n",
       "      <th>890</th>\n",
       "      <td>1</td>\n",
       "      <td>1</td>\n",
       "      <td>Behr, Mr. Karl Howell</td>\n",
       "      <td>male</td>\n",
       "      <td>26.0</td>\n",
       "      <td>0</td>\n",
       "      <td>0</td>\n",
       "      <td>111369</td>\n",
       "      <td>30.0000</td>\n",
       "      <td>C148</td>\n",
       "      <td>C</td>\n",
       "    </tr>\n",
       "    <tr>\n",
       "      <th>891</th>\n",
       "      <td>0</td>\n",
       "      <td>3</td>\n",
       "      <td>Dooley, Mr. Patrick</td>\n",
       "      <td>male</td>\n",
       "      <td>32.0</td>\n",
       "      <td>0</td>\n",
       "      <td>0</td>\n",
       "      <td>370376</td>\n",
       "      <td>7.7500</td>\n",
       "      <td>NaN</td>\n",
       "      <td>Q</td>\n",
       "    </tr>\n",
       "  </tbody>\n",
       "</table>\n",
       "<p>891 rows × 11 columns</p>\n",
       "</div>"
      ],
      "text/plain": [
       "             Survived  Pclass  \\\n",
       "PassengerId                     \n",
       "1                   0       3   \n",
       "2                   1       1   \n",
       "3                   1       3   \n",
       "4                   1       1   \n",
       "5                   0       3   \n",
       "...               ...     ...   \n",
       "887                 0       2   \n",
       "888                 1       1   \n",
       "889                 0       3   \n",
       "890                 1       1   \n",
       "891                 0       3   \n",
       "\n",
       "                                                          Name     Sex   Age  \\\n",
       "PassengerId                                                                    \n",
       "1                                      Braund, Mr. Owen Harris    male  22.0   \n",
       "2            Cumings, Mrs. John Bradley (Florence Briggs Th...  female  38.0   \n",
       "3                                       Heikkinen, Miss. Laina  female  26.0   \n",
       "4                 Futrelle, Mrs. Jacques Heath (Lily May Peel)  female  35.0   \n",
       "5                                     Allen, Mr. William Henry    male  35.0   \n",
       "...                                                        ...     ...   ...   \n",
       "887                                      Montvila, Rev. Juozas    male  27.0   \n",
       "888                               Graham, Miss. Margaret Edith  female   NaN   \n",
       "889                   Johnston, Miss. Catherine Helen \"Carrie\"  female   NaN   \n",
       "890                                      Behr, Mr. Karl Howell    male  26.0   \n",
       "891                                        Dooley, Mr. Patrick    male  32.0   \n",
       "\n",
       "             SibSp  Parch            Ticket     Fare Cabin Embarked  \n",
       "PassengerId                                                          \n",
       "1                1      0         A/5 21171   7.2500   NaN        S  \n",
       "2                1      0          PC 17599  71.2833   C85        C  \n",
       "3                0      0  STON/O2. 3101282   7.9250   NaN        S  \n",
       "4                1      0            113803  53.1000  C123        S  \n",
       "5                0      0            373450   8.0500   NaN        S  \n",
       "...            ...    ...               ...      ...   ...      ...  \n",
       "887              0      0            211536  13.0000   NaN        S  \n",
       "888              0      0            112053  30.0000   B42        S  \n",
       "889              1      2        W./C. 6607  23.4500   NaN        S  \n",
       "890              0      0            111369  30.0000  C148        C  \n",
       "891              0      0            370376   7.7500   NaN        Q  \n",
       "\n",
       "[891 rows x 11 columns]"
      ]
     },
     "execution_count": 3,
     "metadata": {},
     "output_type": "execute_result"
    }
   ],
   "source": [
    "titanic_data.set_index('PassengerId')"
   ]
  },
  {
   "cell_type": "code",
   "execution_count": 4,
   "id": "9b560130",
   "metadata": {},
   "outputs": [
    {
     "name": "stdout",
     "output_type": "stream",
     "text": [
      "<class 'pandas.core.frame.DataFrame'>\n",
      "RangeIndex: 891 entries, 0 to 890\n",
      "Data columns (total 12 columns):\n",
      " #   Column       Non-Null Count  Dtype  \n",
      "---  ------       --------------  -----  \n",
      " 0   PassengerId  891 non-null    int64  \n",
      " 1   Survived     891 non-null    int64  \n",
      " 2   Pclass       891 non-null    int64  \n",
      " 3   Name         891 non-null    object \n",
      " 4   Sex          891 non-null    object \n",
      " 5   Age          705 non-null    float64\n",
      " 6   SibSp        891 non-null    int64  \n",
      " 7   Parch        891 non-null    int64  \n",
      " 8   Ticket       891 non-null    object \n",
      " 9   Fare         891 non-null    float64\n",
      " 10  Cabin        204 non-null    object \n",
      " 11  Embarked     889 non-null    object \n",
      "dtypes: float64(2), int64(5), object(5)\n",
      "memory usage: 83.7+ KB\n"
     ]
    }
   ],
   "source": [
    "titanic_data.info()"
   ]
  },
  {
   "cell_type": "code",
   "execution_count": 5,
   "id": "62c9ff37",
   "metadata": {},
   "outputs": [
    {
     "data": {
      "text/plain": [
       "PassengerId      0\n",
       "Survived         0\n",
       "Pclass           0\n",
       "Name             0\n",
       "Sex              0\n",
       "Age            186\n",
       "SibSp            0\n",
       "Parch            0\n",
       "Ticket           0\n",
       "Fare             0\n",
       "Cabin          687\n",
       "Embarked         2\n",
       "dtype: int64"
      ]
     },
     "execution_count": 5,
     "metadata": {},
     "output_type": "execute_result"
    }
   ],
   "source": [
    "titanic_data.isnull().sum()"
   ]
  },
  {
   "cell_type": "markdown",
   "id": "f3e8c96d",
   "metadata": {},
   "source": [
    "I begin by trying to clean up null values in Embarked, as the column has the least amount of nulls."
   ]
  },
  {
   "cell_type": "code",
   "execution_count": 6,
   "id": "8cb8e36f",
   "metadata": {},
   "outputs": [
    {
     "data": {
      "text/plain": [
       "S    644\n",
       "C    168\n",
       "Q     77\n",
       "Name: Embarked, dtype: int64"
      ]
     },
     "execution_count": 6,
     "metadata": {},
     "output_type": "execute_result"
    }
   ],
   "source": [
    "#Since embarked has the least amount of NaN values, we could either drop \n",
    "#these rows entirely or examine how the values are split (see if there \n",
    "#exists an obvious majority) to predict where the two lone values are \n",
    "#most likely to be. Here, I check to see if there is an obvious majority.\n",
    "\n",
    "embarked = titanic_data['Embarked']\n",
    "embarked.value_counts()"
   ]
  },
  {
   "cell_type": "code",
   "execution_count": 7,
   "id": "97f69029",
   "metadata": {},
   "outputs": [
    {
     "data": {
      "text/plain": [
       "PassengerId      0\n",
       "Survived         0\n",
       "Pclass           0\n",
       "Name             0\n",
       "Sex              0\n",
       "Age            186\n",
       "SibSp            0\n",
       "Parch            0\n",
       "Ticket           0\n",
       "Fare             0\n",
       "Cabin          687\n",
       "Embarked         0\n",
       "dtype: int64"
      ]
     },
     "execution_count": 7,
     "metadata": {},
     "output_type": "execute_result"
    }
   ],
   "source": [
    "#Since a very large amount of passengers embarked from S, I will fill in \n",
    "#the two NaN values as S. It is most likely that they did get on the \n",
    "#Titanic from this location, and even if they did not, the mere two\n",
    "#incorrectly filled Embarked values out of 891 is negligible.\n",
    "\n",
    "titanic_data['Embarked'] = titanic_data['Embarked'].fillna('S')\n",
    "titanic_data.isnull().sum()"
   ]
  },
  {
   "cell_type": "markdown",
   "id": "c471f656",
   "metadata": {},
   "source": []
  },
  {
   "cell_type": "markdown",
   "id": "266c9ea8",
   "metadata": {},
   "source": [
    "Cleaning Up Other Columns: I check the number of unique values for various columns. Columns such as Sex, Survived, and Pclass have an expected number of unique values. Sex should have 2 (female, male), Survived should have 2 (0, 1), and Pclass should have 3 (1, 2, 3)."
   ]
  },
  {
   "cell_type": "code",
   "execution_count": 8,
   "id": "67eeac0f",
   "metadata": {},
   "outputs": [
    {
     "name": "stdout",
     "output_type": "stream",
     "text": [
      "There are 9 unique sex values.\n",
      "There are 2 unique survived values.\n",
      "There are 3 unique pclass values.\n"
     ]
    }
   ],
   "source": [
    "sexnum = titanic_data['Sex'].nunique()\n",
    "print('There are ' + str(sexnum) + ' unique sex values.')\n",
    "\n",
    "survnum = titanic_data['Survived'].nunique()\n",
    "print('There are ' + str(survnum) + ' unique survived values.')\n",
    "\n",
    "pnum = titanic_data['Pclass'].nunique()\n",
    "print('There are ' + str(pnum) + ' unique pclass values.')"
   ]
  },
  {
   "cell_type": "code",
   "execution_count": 9,
   "id": "210c3712",
   "metadata": {},
   "outputs": [
    {
     "name": "stdout",
     "output_type": "stream",
     "text": [
      "['male' 'female' 'not_a_gender' 'Have_fun_with_this_one' 'Random_noise'\n",
      " 'A_challenge_for_you' '12345' 'mAlE' 'fEmAlE']\n"
     ]
    }
   ],
   "source": [
    "#Obviously, there shouldn't be more than two sexes from data from such a\n",
    "#time, so there must be something up with this!! I printed out the unique\n",
    "#sex values to see what is going on\n",
    "\n",
    "sexes = pd.unique(titanic_data['Sex'])\n",
    "print(sexes)"
   ]
  },
  {
   "cell_type": "code",
   "execution_count": 10,
   "id": "cce76c44",
   "metadata": {},
   "outputs": [
    {
     "data": {
      "text/plain": [
       "array(['male', 'female'], dtype=object)"
      ]
     },
     "execution_count": 10,
     "metadata": {},
     "output_type": "execute_result"
    }
   ],
   "source": [
    "pos = [2, 3, 4, 5, 6, 7, 8]\n",
    "sexes = np.delete(sexes, pos)\n",
    "sexes"
   ]
  },
  {
   "cell_type": "code",
   "execution_count": 11,
   "id": "f5f3e0fc",
   "metadata": {},
   "outputs": [],
   "source": [
    "#fix the mAlE and fEmAlE cases\n",
    "titanic_data.loc[titanic_data['Sex'] == 'mAlE', 'Sex'] = 'male'\n",
    "titanic_data.loc[titanic_data['Sex'] == 'fEmAlE', 'Sex'] = 'female'"
   ]
  },
  {
   "cell_type": "code",
   "execution_count": 12,
   "id": "d45c7611",
   "metadata": {},
   "outputs": [
    {
     "data": {
      "text/plain": [
       "2"
      ]
     },
     "execution_count": 12,
     "metadata": {},
     "output_type": "execute_result"
    }
   ],
   "source": [
    "#Dropped the non male and non female genders. Sorry!\n",
    "titanic_data = titanic_data[titanic_data.Sex.isin(sexes)]\n",
    "\n",
    "#Check number of unique sexes again\n",
    "titanic_data['Sex'].nunique()                            "
   ]
  },
  {
   "cell_type": "markdown",
   "id": "6b032747",
   "metadata": {},
   "source": [
    "Next, we move onto the Age column. This was very difficult for me. I felt like there was a lot I could do, so I tried many options that ultimately failed because they were likely outside of my current abilites. "
   ]
  },
  {
   "cell_type": "code",
   "execution_count": 13,
   "id": "2c6f42d6",
   "metadata": {},
   "outputs": [
    {
     "data": {
      "text/plain": [
       "0.42     1\n",
       "0.67     1\n",
       "0.75     2\n",
       "0.83     2\n",
       "0.92     1\n",
       "        ..\n",
       "70.00    2\n",
       "70.50    1\n",
       "71.00    2\n",
       "74.00    1\n",
       "80.00    1\n",
       "Name: Age, Length: 88, dtype: int64"
      ]
     },
     "execution_count": 13,
     "metadata": {},
     "output_type": "execute_result"
    }
   ],
   "source": [
    "age = titanic_data['Age']\n",
    "age.value_counts().sort_index()"
   ]
  },
  {
   "cell_type": "code",
   "execution_count": 14,
   "id": "537bb2bc",
   "metadata": {},
   "outputs": [
    {
     "name": "stdout",
     "output_type": "stream",
     "text": [
      "The total number of half ages is 18.\n"
     ]
    }
   ],
   "source": [
    "halves = []\n",
    "for index in age:\n",
    "    if index > 1:\n",
    "        if int(index) != index:\n",
    "            halves.append(index)\n",
    "print('The total number of half ages is ' + str(len(halves)) + '.')"
   ]
  },
  {
   "cell_type": "markdown",
   "id": "caf23ad1",
   "metadata": {},
   "source": [
    "Though it is odd that some ages are in halves, these should not actually throw off any calculations. The accuracy is just a little higher than the rest. I could round up, but I don't really see the point.\n",
    "<br> </br>\n",
    "<br>The ages less than 1.0 seems to be of babies' ages by month. 0.92 corresponds to an 11 month old baby, 0.83 corresponds to a 10 month old baby, and so on. These ages are also oddly accurate, but I don't foresee them skewing the data because they aren't extremely inaccurate.</br>"
   ]
  },
  {
   "cell_type": "code",
   "execution_count": 15,
   "id": "c97bfd4a",
   "metadata": {},
   "outputs": [
    {
     "data": {
      "text/plain": [
       "Text(0, 0.5, 'Count')"
      ]
     },
     "execution_count": 15,
     "metadata": {},
     "output_type": "execute_result"
    },
    {
     "data": {
      "image/png": "[encoded data removed]",
      "text/plain": [
       "<Figure size 432x288 with 1 Axes>"
      ]
     },
     "metadata": {
      "needs_background": "light"
     },
     "output_type": "display_data"
    }
   ],
   "source": [
    "#plot of count of passengers per 5 year age group, excluding NaN ages\n",
    "\n",
    "ageplot = age.plot.hist(title = \"Histogram of Passsenger Ages\", bins = 16)\n",
    "ageplot.set_xlabel(\"Age\")\n",
    "ageplot.set_ylabel(\"Count\")"
   ]
  },
  {
   "cell_type": "code",
   "execution_count": 16,
   "id": "486460f3",
   "metadata": {},
   "outputs": [
    {
     "data": {
      "text/html": [
       "<div>\n",
       "<style scoped>\n",
       "    .dataframe tbody tr th:only-of-type {\n",
       "        vertical-align: middle;\n",
       "    }\n",
       "\n",
       "    .dataframe tbody tr th {\n",
       "        vertical-align: top;\n",
       "    }\n",
       "\n",
       "    .dataframe thead th {\n",
       "        text-align: right;\n",
       "    }\n",
       "</style>\n",
       "<table border=\"1\" class=\"dataframe\">\n",
       "  <thead>\n",
       "    <tr style=\"text-align: right;\">\n",
       "      <th></th>\n",
       "      <th></th>\n",
       "      <th>mean</th>\n",
       "    </tr>\n",
       "    <tr>\n",
       "      <th>Sex</th>\n",
       "      <th>Pclass</th>\n",
       "      <th></th>\n",
       "    </tr>\n",
       "  </thead>\n",
       "  <tbody>\n",
       "    <tr>\n",
       "      <th rowspan=\"3\" valign=\"top\">female</th>\n",
       "      <th>1</th>\n",
       "      <td>34.518072</td>\n",
       "    </tr>\n",
       "    <tr>\n",
       "      <th>2</th>\n",
       "      <td>28.431507</td>\n",
       "    </tr>\n",
       "    <tr>\n",
       "      <th>3</th>\n",
       "      <td>21.755000</td>\n",
       "    </tr>\n",
       "    <tr>\n",
       "      <th rowspan=\"3\" valign=\"top\">male</th>\n",
       "      <th>1</th>\n",
       "      <td>41.228776</td>\n",
       "    </tr>\n",
       "    <tr>\n",
       "      <th>2</th>\n",
       "      <td>30.477629</td>\n",
       "    </tr>\n",
       "    <tr>\n",
       "      <th>3</th>\n",
       "      <td>26.465680</td>\n",
       "    </tr>\n",
       "  </tbody>\n",
       "</table>\n",
       "</div>"
      ],
      "text/plain": [
       "                    mean\n",
       "Sex    Pclass           \n",
       "female 1       34.518072\n",
       "       2       28.431507\n",
       "       3       21.755000\n",
       "male   1       41.228776\n",
       "       2       30.477629\n",
       "       3       26.465680"
      ]
     },
     "execution_count": 16,
     "metadata": {},
     "output_type": "execute_result"
    }
   ],
   "source": [
    "#calculating average age per sex, pclass group\n",
    "\n",
    "agebygroup = titanic_data.groupby(['Sex', 'Pclass']).agg(mean = ('Age', np.mean))\n",
    "listgroup = agebygroup.reset_index().values.tolist()\n",
    "agebygroup\n"
   ]
  },
  {
   "cell_type": "code",
   "execution_count": 17,
   "id": "b42107e4",
   "metadata": {},
   "outputs": [
    {
     "data": {
      "text/plain": [
       "PassengerId      0\n",
       "Survived         0\n",
       "Pclass           0\n",
       "Name             0\n",
       "Sex              0\n",
       "Age              0\n",
       "SibSp            0\n",
       "Parch            0\n",
       "Ticket           0\n",
       "Fare             0\n",
       "Cabin          682\n",
       "Embarked         0\n",
       "dtype: int64"
      ]
     },
     "execution_count": 17,
     "metadata": {},
     "output_type": "execute_result"
    }
   ],
   "source": [
    "#I want to loop through each NaN age passenger and match sex, pclass then fill NaN\n",
    "#to average age per sex, pclass. This is likely too inefficient. tried itertruples, iterrows\n",
    "\n",
    "\n",
    "#stack overflow: https://stackoverflow.com/questions/43222878/iterate-over\n",
    "#-pandas-dataframe-and-update-the-value-attributeerror-cant-set-a\n",
    "\n",
    "mask = (titanic_data['Age'].isnull()) & (titanic_data['Sex'] == 'female') & (titanic_data['Pclass'] == 1)\n",
    "titanic_data.loc[mask, 'Age'] = 34.518072\n",
    "\n",
    "mask = (titanic_data['Age'].isnull()) & (titanic_data['Sex'] == 'female') & (titanic_data['Pclass'] == 2)\n",
    "titanic_data.loc[mask, 'Age'] = 28.431507\n",
    "\n",
    "mask = (titanic_data['Age'].isnull()) & (titanic_data['Sex'] == 'female') & (titanic_data['Pclass'] == 3)\n",
    "titanic_data.loc[mask, 'Age'] = 21.755000\n",
    "\n",
    "mask = (titanic_data['Age'].isnull()) & (titanic_data['Sex'] == 'male') & (titanic_data['Pclass'] == 1)\n",
    "titanic_data.loc[mask, 'Age'] = 41.228776\n",
    "\n",
    "mask = (titanic_data['Age'].isnull()) & (titanic_data['Sex'] == 'male') & (titanic_data['Pclass'] == 2)\n",
    "titanic_data.loc[mask, 'Age'] = 30.477629\n",
    "\n",
    "mask = (titanic_data['Age'].isnull()) & (titanic_data['Sex'] == 'male') & (titanic_data['Pclass'] == 3)\n",
    "titanic_data.loc[mask, 'Age'] = 26.465680\n",
    "\n",
    "#check if any ages are still NaN values\n",
    "titanic_data.isnull().sum()\n",
    "    "
   ]
  },
  {
   "cell_type": "code",
   "execution_count": 18,
   "id": "844a0a20",
   "metadata": {},
   "outputs": [
    {
     "data": {
      "text/plain": [
       "Text(0, 0.5, 'Count')"
      ]
     },
     "execution_count": 18,
     "metadata": {},
     "output_type": "execute_result"
    },
    {
     "data": {
      "image/png": "[encoded data removed]",
      "text/plain": [
       "<Figure size 432x288 with 1 Axes>"
      ]
     },
     "metadata": {
      "needs_background": "light"
     },
     "output_type": "display_data"
    }
   ],
   "source": [
    "#plot of count of passengers per 5 year age group, excluding NaN ages\n",
    "newage = titanic_data['Age']\n",
    "newageplot = newage.plot.hist(title = \"Histogram of Passsenger Ages\", bins = 16)\n",
    "newageplot.set_xlabel(\"Age\")\n",
    "newageplot.set_ylabel(\"Count\")"
   ]
  },
  {
   "cell_type": "markdown",
   "id": "591223e2",
   "metadata": {},
   "source": [
    "Around 20-40 years of age, the jump from bar to bar is much steeper than my initial histogram (of non-NaN ages). While the original graph had a steady decline from 30 onwards, this graph sharply jumps down between 20 and 30. This is because of the way I decided to clean the data; had I filled in NaN values using a more precise prediction, I believe the bars would be smoother. I would then not be adding many passengers to the ~25 age range."
   ]
  },
  {
   "cell_type": "code",
   "execution_count": 19,
   "id": "f2bc7502",
   "metadata": {},
   "outputs": [
    {
     "data": {
      "text/html": [
       "<div>\n",
       "<style scoped>\n",
       "    .dataframe tbody tr th:only-of-type {\n",
       "        vertical-align: middle;\n",
       "    }\n",
       "\n",
       "    .dataframe tbody tr th {\n",
       "        vertical-align: top;\n",
       "    }\n",
       "\n",
       "    .dataframe thead th {\n",
       "        text-align: right;\n",
       "    }\n",
       "</style>\n",
       "<table border=\"1\" class=\"dataframe\">\n",
       "  <thead>\n",
       "    <tr style=\"text-align: right;\">\n",
       "      <th></th>\n",
       "      <th>PassengerId</th>\n",
       "      <th>Survived</th>\n",
       "      <th>Pclass</th>\n",
       "      <th>Name</th>\n",
       "      <th>Sex</th>\n",
       "      <th>Age</th>\n",
       "      <th>SibSp</th>\n",
       "      <th>Parch</th>\n",
       "      <th>Fare</th>\n",
       "      <th>Embarked</th>\n",
       "    </tr>\n",
       "  </thead>\n",
       "  <tbody>\n",
       "    <tr>\n",
       "      <th>0</th>\n",
       "      <td>1</td>\n",
       "      <td>0</td>\n",
       "      <td>3</td>\n",
       "      <td>Braund, Mr. Owen Harris</td>\n",
       "      <td>male</td>\n",
       "      <td>22.000000</td>\n",
       "      <td>1</td>\n",
       "      <td>0</td>\n",
       "      <td>7.2500</td>\n",
       "      <td>S</td>\n",
       "    </tr>\n",
       "    <tr>\n",
       "      <th>1</th>\n",
       "      <td>2</td>\n",
       "      <td>1</td>\n",
       "      <td>1</td>\n",
       "      <td>Cumings, Mrs. John Bradley (Florence Briggs Th...</td>\n",
       "      <td>female</td>\n",
       "      <td>38.000000</td>\n",
       "      <td>1</td>\n",
       "      <td>0</td>\n",
       "      <td>71.2833</td>\n",
       "      <td>C</td>\n",
       "    </tr>\n",
       "    <tr>\n",
       "      <th>2</th>\n",
       "      <td>3</td>\n",
       "      <td>1</td>\n",
       "      <td>3</td>\n",
       "      <td>Heikkinen, Miss. Laina</td>\n",
       "      <td>female</td>\n",
       "      <td>26.000000</td>\n",
       "      <td>0</td>\n",
       "      <td>0</td>\n",
       "      <td>7.9250</td>\n",
       "      <td>S</td>\n",
       "    </tr>\n",
       "    <tr>\n",
       "      <th>3</th>\n",
       "      <td>4</td>\n",
       "      <td>1</td>\n",
       "      <td>1</td>\n",
       "      <td>Futrelle, Mrs. Jacques Heath (Lily May Peel)</td>\n",
       "      <td>female</td>\n",
       "      <td>35.000000</td>\n",
       "      <td>1</td>\n",
       "      <td>0</td>\n",
       "      <td>53.1000</td>\n",
       "      <td>S</td>\n",
       "    </tr>\n",
       "    <tr>\n",
       "      <th>4</th>\n",
       "      <td>5</td>\n",
       "      <td>0</td>\n",
       "      <td>3</td>\n",
       "      <td>Allen, Mr. William Henry</td>\n",
       "      <td>male</td>\n",
       "      <td>35.000000</td>\n",
       "      <td>0</td>\n",
       "      <td>0</td>\n",
       "      <td>8.0500</td>\n",
       "      <td>S</td>\n",
       "    </tr>\n",
       "    <tr>\n",
       "      <th>...</th>\n",
       "      <td>...</td>\n",
       "      <td>...</td>\n",
       "      <td>...</td>\n",
       "      <td>...</td>\n",
       "      <td>...</td>\n",
       "      <td>...</td>\n",
       "      <td>...</td>\n",
       "      <td>...</td>\n",
       "      <td>...</td>\n",
       "      <td>...</td>\n",
       "    </tr>\n",
       "    <tr>\n",
       "      <th>886</th>\n",
       "      <td>887</td>\n",
       "      <td>0</td>\n",
       "      <td>2</td>\n",
       "      <td>Montvila, Rev. Juozas</td>\n",
       "      <td>male</td>\n",
       "      <td>27.000000</td>\n",
       "      <td>0</td>\n",
       "      <td>0</td>\n",
       "      <td>13.0000</td>\n",
       "      <td>S</td>\n",
       "    </tr>\n",
       "    <tr>\n",
       "      <th>887</th>\n",
       "      <td>888</td>\n",
       "      <td>1</td>\n",
       "      <td>1</td>\n",
       "      <td>Graham, Miss. Margaret Edith</td>\n",
       "      <td>female</td>\n",
       "      <td>34.518072</td>\n",
       "      <td>0</td>\n",
       "      <td>0</td>\n",
       "      <td>30.0000</td>\n",
       "      <td>S</td>\n",
       "    </tr>\n",
       "    <tr>\n",
       "      <th>888</th>\n",
       "      <td>889</td>\n",
       "      <td>0</td>\n",
       "      <td>3</td>\n",
       "      <td>Johnston, Miss. Catherine Helen \"Carrie\"</td>\n",
       "      <td>female</td>\n",
       "      <td>21.755000</td>\n",
       "      <td>1</td>\n",
       "      <td>2</td>\n",
       "      <td>23.4500</td>\n",
       "      <td>S</td>\n",
       "    </tr>\n",
       "    <tr>\n",
       "      <th>889</th>\n",
       "      <td>890</td>\n",
       "      <td>1</td>\n",
       "      <td>1</td>\n",
       "      <td>Behr, Mr. Karl Howell</td>\n",
       "      <td>male</td>\n",
       "      <td>26.000000</td>\n",
       "      <td>0</td>\n",
       "      <td>0</td>\n",
       "      <td>30.0000</td>\n",
       "      <td>C</td>\n",
       "    </tr>\n",
       "    <tr>\n",
       "      <th>890</th>\n",
       "      <td>891</td>\n",
       "      <td>0</td>\n",
       "      <td>3</td>\n",
       "      <td>Dooley, Mr. Patrick</td>\n",
       "      <td>male</td>\n",
       "      <td>32.000000</td>\n",
       "      <td>0</td>\n",
       "      <td>0</td>\n",
       "      <td>7.7500</td>\n",
       "      <td>Q</td>\n",
       "    </tr>\n",
       "  </tbody>\n",
       "</table>\n",
       "<p>886 rows × 10 columns</p>\n",
       "</div>"
      ],
      "text/plain": [
       "     PassengerId  Survived  Pclass  \\\n",
       "0              1         0       3   \n",
       "1              2         1       1   \n",
       "2              3         1       3   \n",
       "3              4         1       1   \n",
       "4              5         0       3   \n",
       "..           ...       ...     ...   \n",
       "886          887         0       2   \n",
       "887          888         1       1   \n",
       "888          889         0       3   \n",
       "889          890         1       1   \n",
       "890          891         0       3   \n",
       "\n",
       "                                                  Name     Sex        Age  \\\n",
       "0                              Braund, Mr. Owen Harris    male  22.000000   \n",
       "1    Cumings, Mrs. John Bradley (Florence Briggs Th...  female  38.000000   \n",
       "2                               Heikkinen, Miss. Laina  female  26.000000   \n",
       "3         Futrelle, Mrs. Jacques Heath (Lily May Peel)  female  35.000000   \n",
       "4                             Allen, Mr. William Henry    male  35.000000   \n",
       "..                                                 ...     ...        ...   \n",
       "886                              Montvila, Rev. Juozas    male  27.000000   \n",
       "887                       Graham, Miss. Margaret Edith  female  34.518072   \n",
       "888           Johnston, Miss. Catherine Helen \"Carrie\"  female  21.755000   \n",
       "889                              Behr, Mr. Karl Howell    male  26.000000   \n",
       "890                                Dooley, Mr. Patrick    male  32.000000   \n",
       "\n",
       "     SibSp  Parch     Fare Embarked  \n",
       "0        1      0   7.2500        S  \n",
       "1        1      0  71.2833        C  \n",
       "2        0      0   7.9250        S  \n",
       "3        1      0  53.1000        S  \n",
       "4        0      0   8.0500        S  \n",
       "..     ...    ...      ...      ...  \n",
       "886      0      0  13.0000        S  \n",
       "887      0      0  30.0000        S  \n",
       "888      1      2  23.4500        S  \n",
       "889      0      0  30.0000        C  \n",
       "890      0      0   7.7500        Q  \n",
       "\n",
       "[886 rows x 10 columns]"
      ]
     },
     "execution_count": 19,
     "metadata": {},
     "output_type": "execute_result"
    }
   ],
   "source": [
    "### I dropped Cabin and Ticket columns because they seem quite irrelevant. \n",
    "#Not sure what I could do with them.\n",
    "\n",
    "titanic_data = titanic_data.drop(columns = ['Cabin', 'Ticket'])\n",
    "titanic_data"
   ]
  },
  {
   "cell_type": "markdown",
   "id": "05ec0f39",
   "metadata": {},
   "source": [
    "I initially wanted to make this much more detailed; I wanted to find the average age by gender, survived, and pclass because I felt these would be most representative measures of a passenger's age. Obviously, I could not find a more efficient method of doing so, so I settled with only grouping by gender and pclass. Had I grouped by more atrributes, it would have been much too inefficient with lots of repeated code. Currently, there are only 6 total cases for each gender and pclass combo."
   ]
  },
  {
   "cell_type": "code",
   "execution_count": 20,
   "id": "8d09b5f8",
   "metadata": {},
   "outputs": [
    {
     "data": {
      "text/plain": [
       "PassengerId    0\n",
       "Survived       0\n",
       "Pclass         0\n",
       "Name           0\n",
       "Sex            0\n",
       "Age            0\n",
       "SibSp          0\n",
       "Parch          0\n",
       "Fare           0\n",
       "Embarked       0\n",
       "dtype: int64"
      ]
     },
     "execution_count": 20,
     "metadata": {},
     "output_type": "execute_result"
    }
   ],
   "source": [
    "#checking to see if all NaN ages have been resolved\n",
    "titanic_data.isnull().sum()"
   ]
  },
  {
   "cell_type": "code",
   "execution_count": 21,
   "id": "1dccf8e5",
   "metadata": {},
   "outputs": [
    {
     "data": {
      "text/plain": [
       "886"
      ]
     },
     "execution_count": 21,
     "metadata": {},
     "output_type": "execute_result"
    }
   ],
   "source": [
    "#Just checking to see that every passenger has a different name... means \n",
    "#each is probably a different person if value matches # of rows above.\n",
    "titanic_data['Name'].nunique()"
   ]
  },
  {
   "cell_type": "code",
   "execution_count": 22,
   "id": "3dfd53e2",
   "metadata": {},
   "outputs": [
    {
     "data": {
      "text/html": [
       "<div>\n",
       "<style scoped>\n",
       "    .dataframe tbody tr th:only-of-type {\n",
       "        vertical-align: middle;\n",
       "    }\n",
       "\n",
       "    .dataframe tbody tr th {\n",
       "        vertical-align: top;\n",
       "    }\n",
       "\n",
       "    .dataframe thead th {\n",
       "        text-align: right;\n",
       "    }\n",
       "</style>\n",
       "<table border=\"1\" class=\"dataframe\">\n",
       "  <thead>\n",
       "    <tr style=\"text-align: right;\">\n",
       "      <th></th>\n",
       "      <th>PassengerId</th>\n",
       "      <th>Survived</th>\n",
       "      <th>Pclass</th>\n",
       "      <th>Name</th>\n",
       "      <th>Sex</th>\n",
       "      <th>Age</th>\n",
       "      <th>SibSp</th>\n",
       "      <th>Parch</th>\n",
       "      <th>Fare</th>\n",
       "      <th>Embarked</th>\n",
       "    </tr>\n",
       "  </thead>\n",
       "  <tbody>\n",
       "    <tr>\n",
       "      <th>0</th>\n",
       "      <td>1</td>\n",
       "      <td>0</td>\n",
       "      <td>3</td>\n",
       "      <td>Braund, Mr. Owen Harris</td>\n",
       "      <td>male</td>\n",
       "      <td>22.000000</td>\n",
       "      <td>1</td>\n",
       "      <td>0</td>\n",
       "      <td>7.2500</td>\n",
       "      <td>S</td>\n",
       "    </tr>\n",
       "    <tr>\n",
       "      <th>1</th>\n",
       "      <td>2</td>\n",
       "      <td>1</td>\n",
       "      <td>1</td>\n",
       "      <td>Cumings, Mrs. John Bradley (Florence Briggs Th...</td>\n",
       "      <td>female</td>\n",
       "      <td>38.000000</td>\n",
       "      <td>1</td>\n",
       "      <td>0</td>\n",
       "      <td>71.2833</td>\n",
       "      <td>C</td>\n",
       "    </tr>\n",
       "    <tr>\n",
       "      <th>2</th>\n",
       "      <td>3</td>\n",
       "      <td>1</td>\n",
       "      <td>3</td>\n",
       "      <td>Heikkinen, Miss. Laina</td>\n",
       "      <td>female</td>\n",
       "      <td>26.000000</td>\n",
       "      <td>0</td>\n",
       "      <td>0</td>\n",
       "      <td>7.9250</td>\n",
       "      <td>S</td>\n",
       "    </tr>\n",
       "    <tr>\n",
       "      <th>3</th>\n",
       "      <td>4</td>\n",
       "      <td>1</td>\n",
       "      <td>1</td>\n",
       "      <td>Futrelle, Mrs. Jacques Heath (Lily May Peel)</td>\n",
       "      <td>female</td>\n",
       "      <td>35.000000</td>\n",
       "      <td>1</td>\n",
       "      <td>0</td>\n",
       "      <td>53.1000</td>\n",
       "      <td>S</td>\n",
       "    </tr>\n",
       "    <tr>\n",
       "      <th>4</th>\n",
       "      <td>5</td>\n",
       "      <td>0</td>\n",
       "      <td>3</td>\n",
       "      <td>Allen, Mr. William Henry</td>\n",
       "      <td>male</td>\n",
       "      <td>35.000000</td>\n",
       "      <td>0</td>\n",
       "      <td>0</td>\n",
       "      <td>8.0500</td>\n",
       "      <td>S</td>\n",
       "    </tr>\n",
       "    <tr>\n",
       "      <th>...</th>\n",
       "      <td>...</td>\n",
       "      <td>...</td>\n",
       "      <td>...</td>\n",
       "      <td>...</td>\n",
       "      <td>...</td>\n",
       "      <td>...</td>\n",
       "      <td>...</td>\n",
       "      <td>...</td>\n",
       "      <td>...</td>\n",
       "      <td>...</td>\n",
       "    </tr>\n",
       "    <tr>\n",
       "      <th>886</th>\n",
       "      <td>887</td>\n",
       "      <td>0</td>\n",
       "      <td>2</td>\n",
       "      <td>Montvila, Rev. Juozas</td>\n",
       "      <td>male</td>\n",
       "      <td>27.000000</td>\n",
       "      <td>0</td>\n",
       "      <td>0</td>\n",
       "      <td>13.0000</td>\n",
       "      <td>S</td>\n",
       "    </tr>\n",
       "    <tr>\n",
       "      <th>887</th>\n",
       "      <td>888</td>\n",
       "      <td>1</td>\n",
       "      <td>1</td>\n",
       "      <td>Graham, Miss. Margaret Edith</td>\n",
       "      <td>female</td>\n",
       "      <td>34.518072</td>\n",
       "      <td>0</td>\n",
       "      <td>0</td>\n",
       "      <td>30.0000</td>\n",
       "      <td>S</td>\n",
       "    </tr>\n",
       "    <tr>\n",
       "      <th>888</th>\n",
       "      <td>889</td>\n",
       "      <td>0</td>\n",
       "      <td>3</td>\n",
       "      <td>Johnston, Miss. Catherine Helen \"Carrie\"</td>\n",
       "      <td>female</td>\n",
       "      <td>21.755000</td>\n",
       "      <td>1</td>\n",
       "      <td>2</td>\n",
       "      <td>23.4500</td>\n",
       "      <td>S</td>\n",
       "    </tr>\n",
       "    <tr>\n",
       "      <th>889</th>\n",
       "      <td>890</td>\n",
       "      <td>1</td>\n",
       "      <td>1</td>\n",
       "      <td>Behr, Mr. Karl Howell</td>\n",
       "      <td>male</td>\n",
       "      <td>26.000000</td>\n",
       "      <td>0</td>\n",
       "      <td>0</td>\n",
       "      <td>30.0000</td>\n",
       "      <td>C</td>\n",
       "    </tr>\n",
       "    <tr>\n",
       "      <th>890</th>\n",
       "      <td>891</td>\n",
       "      <td>0</td>\n",
       "      <td>3</td>\n",
       "      <td>Dooley, Mr. Patrick</td>\n",
       "      <td>male</td>\n",
       "      <td>32.000000</td>\n",
       "      <td>0</td>\n",
       "      <td>0</td>\n",
       "      <td>7.7500</td>\n",
       "      <td>Q</td>\n",
       "    </tr>\n",
       "  </tbody>\n",
       "</table>\n",
       "<p>886 rows × 10 columns</p>\n",
       "</div>"
      ],
      "text/plain": [
       "     PassengerId  Survived  Pclass  \\\n",
       "0              1         0       3   \n",
       "1              2         1       1   \n",
       "2              3         1       3   \n",
       "3              4         1       1   \n",
       "4              5         0       3   \n",
       "..           ...       ...     ...   \n",
       "886          887         0       2   \n",
       "887          888         1       1   \n",
       "888          889         0       3   \n",
       "889          890         1       1   \n",
       "890          891         0       3   \n",
       "\n",
       "                                                  Name     Sex        Age  \\\n",
       "0                              Braund, Mr. Owen Harris    male  22.000000   \n",
       "1    Cumings, Mrs. John Bradley (Florence Briggs Th...  female  38.000000   \n",
       "2                               Heikkinen, Miss. Laina  female  26.000000   \n",
       "3         Futrelle, Mrs. Jacques Heath (Lily May Peel)  female  35.000000   \n",
       "4                             Allen, Mr. William Henry    male  35.000000   \n",
       "..                                                 ...     ...        ...   \n",
       "886                              Montvila, Rev. Juozas    male  27.000000   \n",
       "887                       Graham, Miss. Margaret Edith  female  34.518072   \n",
       "888           Johnston, Miss. Catherine Helen \"Carrie\"  female  21.755000   \n",
       "889                              Behr, Mr. Karl Howell    male  26.000000   \n",
       "890                                Dooley, Mr. Patrick    male  32.000000   \n",
       "\n",
       "     SibSp  Parch     Fare Embarked  \n",
       "0        1      0   7.2500        S  \n",
       "1        1      0  71.2833        C  \n",
       "2        0      0   7.9250        S  \n",
       "3        1      0  53.1000        S  \n",
       "4        0      0   8.0500        S  \n",
       "..     ...    ...      ...      ...  \n",
       "886      0      0  13.0000        S  \n",
       "887      0      0  30.0000        S  \n",
       "888      1      2  23.4500        S  \n",
       "889      0      0  30.0000        C  \n",
       "890      0      0   7.7500        Q  \n",
       "\n",
       "[886 rows x 10 columns]"
      ]
     },
     "execution_count": 22,
     "metadata": {},
     "output_type": "execute_result"
    }
   ],
   "source": [
    "titanic_data"
   ]
  },
  {
   "cell_type": "code",
   "execution_count": 23,
   "id": "cef8f60d",
   "metadata": {},
   "outputs": [
    {
     "data": {
      "text/plain": [
       "count    886.000000\n",
       "mean      32.311784\n",
       "std       49.811064\n",
       "min        0.000000\n",
       "25%        7.903100\n",
       "50%       14.454200\n",
       "75%       31.206250\n",
       "max      512.329200\n",
       "Name: Fare, dtype: float64"
      ]
     },
     "execution_count": 23,
     "metadata": {},
     "output_type": "execute_result"
    }
   ],
   "source": [
    "#curious about how much each passenger paid\n",
    "fare = titanic_data['Fare']\n",
    "fare.describe()"
   ]
  },
  {
   "cell_type": "code",
   "execution_count": 24,
   "id": "4bc0a6e0",
   "metadata": {},
   "outputs": [
    {
     "data": {
      "text/plain": [
       "15"
      ]
     },
     "execution_count": 24,
     "metadata": {},
     "output_type": "execute_result"
    }
   ],
   "source": [
    "free = titanic_data.loc[titanic_data['Fare'] == 0]\n",
    "len(free.index)"
   ]
  },
  {
   "cell_type": "code",
   "execution_count": 25,
   "id": "93666298",
   "metadata": {},
   "outputs": [
    {
     "data": {
      "text/html": [
       "<div>\n",
       "<style scoped>\n",
       "    .dataframe tbody tr th:only-of-type {\n",
       "        vertical-align: middle;\n",
       "    }\n",
       "\n",
       "    .dataframe tbody tr th {\n",
       "        vertical-align: top;\n",
       "    }\n",
       "\n",
       "    .dataframe thead th {\n",
       "        text-align: right;\n",
       "    }\n",
       "</style>\n",
       "<table border=\"1\" class=\"dataframe\">\n",
       "  <thead>\n",
       "    <tr style=\"text-align: right;\">\n",
       "      <th></th>\n",
       "      <th>PassengerId</th>\n",
       "      <th>Survived</th>\n",
       "      <th>Pclass</th>\n",
       "      <th>Name</th>\n",
       "      <th>Sex</th>\n",
       "      <th>Age</th>\n",
       "      <th>SibSp</th>\n",
       "      <th>Parch</th>\n",
       "      <th>Fare</th>\n",
       "      <th>Embarked</th>\n",
       "    </tr>\n",
       "  </thead>\n",
       "  <tbody>\n",
       "    <tr>\n",
       "      <th>179</th>\n",
       "      <td>180</td>\n",
       "      <td>0</td>\n",
       "      <td>3</td>\n",
       "      <td>Leonard, Mr. Lionel</td>\n",
       "      <td>male</td>\n",
       "      <td>36.000000</td>\n",
       "      <td>0</td>\n",
       "      <td>0</td>\n",
       "      <td>0.0</td>\n",
       "      <td>S</td>\n",
       "    </tr>\n",
       "    <tr>\n",
       "      <th>263</th>\n",
       "      <td>264</td>\n",
       "      <td>0</td>\n",
       "      <td>1</td>\n",
       "      <td>Harrison, Mr. William</td>\n",
       "      <td>male</td>\n",
       "      <td>40.000000</td>\n",
       "      <td>0</td>\n",
       "      <td>0</td>\n",
       "      <td>0.0</td>\n",
       "      <td>S</td>\n",
       "    </tr>\n",
       "    <tr>\n",
       "      <th>271</th>\n",
       "      <td>272</td>\n",
       "      <td>1</td>\n",
       "      <td>3</td>\n",
       "      <td>Tornquist, Mr. William Henry</td>\n",
       "      <td>male</td>\n",
       "      <td>25.000000</td>\n",
       "      <td>0</td>\n",
       "      <td>0</td>\n",
       "      <td>0.0</td>\n",
       "      <td>S</td>\n",
       "    </tr>\n",
       "    <tr>\n",
       "      <th>277</th>\n",
       "      <td>278</td>\n",
       "      <td>0</td>\n",
       "      <td>2</td>\n",
       "      <td>Parkes, Mr. Francis \"Frank\"</td>\n",
       "      <td>male</td>\n",
       "      <td>30.477629</td>\n",
       "      <td>0</td>\n",
       "      <td>0</td>\n",
       "      <td>0.0</td>\n",
       "      <td>S</td>\n",
       "    </tr>\n",
       "    <tr>\n",
       "      <th>302</th>\n",
       "      <td>303</td>\n",
       "      <td>0</td>\n",
       "      <td>3</td>\n",
       "      <td>Johnson, Mr. William Cahoone Jr</td>\n",
       "      <td>male</td>\n",
       "      <td>19.000000</td>\n",
       "      <td>0</td>\n",
       "      <td>0</td>\n",
       "      <td>0.0</td>\n",
       "      <td>S</td>\n",
       "    </tr>\n",
       "    <tr>\n",
       "      <th>413</th>\n",
       "      <td>414</td>\n",
       "      <td>0</td>\n",
       "      <td>2</td>\n",
       "      <td>Cunningham, Mr. Alfred Fleming</td>\n",
       "      <td>male</td>\n",
       "      <td>30.477629</td>\n",
       "      <td>0</td>\n",
       "      <td>0</td>\n",
       "      <td>0.0</td>\n",
       "      <td>S</td>\n",
       "    </tr>\n",
       "    <tr>\n",
       "      <th>466</th>\n",
       "      <td>467</td>\n",
       "      <td>0</td>\n",
       "      <td>2</td>\n",
       "      <td>Campbell, Mr. William</td>\n",
       "      <td>male</td>\n",
       "      <td>30.477629</td>\n",
       "      <td>0</td>\n",
       "      <td>0</td>\n",
       "      <td>0.0</td>\n",
       "      <td>S</td>\n",
       "    </tr>\n",
       "    <tr>\n",
       "      <th>481</th>\n",
       "      <td>482</td>\n",
       "      <td>0</td>\n",
       "      <td>2</td>\n",
       "      <td>Frost, Mr. Anthony Wood \"Archie\"</td>\n",
       "      <td>male</td>\n",
       "      <td>30.477629</td>\n",
       "      <td>0</td>\n",
       "      <td>0</td>\n",
       "      <td>0.0</td>\n",
       "      <td>S</td>\n",
       "    </tr>\n",
       "    <tr>\n",
       "      <th>597</th>\n",
       "      <td>598</td>\n",
       "      <td>0</td>\n",
       "      <td>3</td>\n",
       "      <td>Johnson, Mr. Alfred</td>\n",
       "      <td>male</td>\n",
       "      <td>49.000000</td>\n",
       "      <td>0</td>\n",
       "      <td>0</td>\n",
       "      <td>0.0</td>\n",
       "      <td>S</td>\n",
       "    </tr>\n",
       "    <tr>\n",
       "      <th>633</th>\n",
       "      <td>634</td>\n",
       "      <td>0</td>\n",
       "      <td>1</td>\n",
       "      <td>Parr, Mr. William Henry Marsh</td>\n",
       "      <td>male</td>\n",
       "      <td>41.228776</td>\n",
       "      <td>0</td>\n",
       "      <td>0</td>\n",
       "      <td>0.0</td>\n",
       "      <td>S</td>\n",
       "    </tr>\n",
       "    <tr>\n",
       "      <th>674</th>\n",
       "      <td>675</td>\n",
       "      <td>0</td>\n",
       "      <td>2</td>\n",
       "      <td>Watson, Mr. Ennis Hastings</td>\n",
       "      <td>male</td>\n",
       "      <td>30.477629</td>\n",
       "      <td>0</td>\n",
       "      <td>0</td>\n",
       "      <td>0.0</td>\n",
       "      <td>S</td>\n",
       "    </tr>\n",
       "    <tr>\n",
       "      <th>732</th>\n",
       "      <td>733</td>\n",
       "      <td>0</td>\n",
       "      <td>2</td>\n",
       "      <td>Knight, Mr. Robert J</td>\n",
       "      <td>male</td>\n",
       "      <td>30.477629</td>\n",
       "      <td>0</td>\n",
       "      <td>0</td>\n",
       "      <td>0.0</td>\n",
       "      <td>S</td>\n",
       "    </tr>\n",
       "    <tr>\n",
       "      <th>806</th>\n",
       "      <td>807</td>\n",
       "      <td>0</td>\n",
       "      <td>1</td>\n",
       "      <td>Andrews, Mr. Thomas Jr</td>\n",
       "      <td>male</td>\n",
       "      <td>39.000000</td>\n",
       "      <td>0</td>\n",
       "      <td>0</td>\n",
       "      <td>0.0</td>\n",
       "      <td>S</td>\n",
       "    </tr>\n",
       "    <tr>\n",
       "      <th>815</th>\n",
       "      <td>816</td>\n",
       "      <td>0</td>\n",
       "      <td>1</td>\n",
       "      <td>Fry, Mr. Richard</td>\n",
       "      <td>male</td>\n",
       "      <td>41.228776</td>\n",
       "      <td>0</td>\n",
       "      <td>0</td>\n",
       "      <td>0.0</td>\n",
       "      <td>S</td>\n",
       "    </tr>\n",
       "    <tr>\n",
       "      <th>822</th>\n",
       "      <td>823</td>\n",
       "      <td>0</td>\n",
       "      <td>1</td>\n",
       "      <td>Reuchlin, Jonkheer. John George</td>\n",
       "      <td>male</td>\n",
       "      <td>38.000000</td>\n",
       "      <td>0</td>\n",
       "      <td>0</td>\n",
       "      <td>0.0</td>\n",
       "      <td>S</td>\n",
       "    </tr>\n",
       "  </tbody>\n",
       "</table>\n",
       "</div>"
      ],
      "text/plain": [
       "     PassengerId  Survived  Pclass                              Name   Sex  \\\n",
       "179          180         0       3               Leonard, Mr. Lionel  male   \n",
       "263          264         0       1             Harrison, Mr. William  male   \n",
       "271          272         1       3      Tornquist, Mr. William Henry  male   \n",
       "277          278         0       2       Parkes, Mr. Francis \"Frank\"  male   \n",
       "302          303         0       3   Johnson, Mr. William Cahoone Jr  male   \n",
       "413          414         0       2    Cunningham, Mr. Alfred Fleming  male   \n",
       "466          467         0       2             Campbell, Mr. William  male   \n",
       "481          482         0       2  Frost, Mr. Anthony Wood \"Archie\"  male   \n",
       "597          598         0       3               Johnson, Mr. Alfred  male   \n",
       "633          634         0       1     Parr, Mr. William Henry Marsh  male   \n",
       "674          675         0       2        Watson, Mr. Ennis Hastings  male   \n",
       "732          733         0       2              Knight, Mr. Robert J  male   \n",
       "806          807         0       1            Andrews, Mr. Thomas Jr  male   \n",
       "815          816         0       1                  Fry, Mr. Richard  male   \n",
       "822          823         0       1   Reuchlin, Jonkheer. John George  male   \n",
       "\n",
       "           Age  SibSp  Parch  Fare Embarked  \n",
       "179  36.000000      0      0   0.0        S  \n",
       "263  40.000000      0      0   0.0        S  \n",
       "271  25.000000      0      0   0.0        S  \n",
       "277  30.477629      0      0   0.0        S  \n",
       "302  19.000000      0      0   0.0        S  \n",
       "413  30.477629      0      0   0.0        S  \n",
       "466  30.477629      0      0   0.0        S  \n",
       "481  30.477629      0      0   0.0        S  \n",
       "597  49.000000      0      0   0.0        S  \n",
       "633  41.228776      0      0   0.0        S  \n",
       "674  30.477629      0      0   0.0        S  \n",
       "732  30.477629      0      0   0.0        S  \n",
       "806  39.000000      0      0   0.0        S  \n",
       "815  41.228776      0      0   0.0        S  \n",
       "822  38.000000      0      0   0.0        S  "
      ]
     },
     "execution_count": 25,
     "metadata": {},
     "output_type": "execute_result"
    }
   ],
   "source": [
    "free"
   ]
  },
  {
   "cell_type": "markdown",
   "id": "81b68cef",
   "metadata": {},
   "source": [
    "There are 15 passengers who boarded the Titanic for free. Looking purely at the number, I wondered if they traveled with someone else who paid for their ticket (hence how they didn't pay a single penny), but from SibSp and Parch columns they clearly boarded by themselves. Interestingly enough, there is a good amount in each Pclass, and all of them are male and boarded from S. These could possibly be workers. 1st class workers may be the architects who worked on the Titanic, 3rd class workers could be people literally exchanging labor for this chance. Just some thoughts!"
   ]
  },
  {
   "cell_type": "code",
   "execution_count": 26,
   "id": "3bb2a70b",
   "metadata": {},
   "outputs": [],
   "source": [
    "#Split passengers by quartile\n",
    "titanic_data_sorted = titanic_data.sort_values(by=['Fare'])\n",
    "quart1 = titanic_data_sorted.loc[(titanic_data_sorted['Fare'] >= 0)&(titanic_data_sorted['Fare'] < 7.903100)]\n",
    "quart2 = titanic_data_sorted.loc[(titanic_data_sorted['Fare'] >= 7.903100) & (titanic_data_sorted['Fare'] < 14.454200)]\n",
    "quart3 = titanic_data_sorted.loc[(titanic_data_sorted['Fare'] >= 14.454200) & (titanic_data_sorted['Fare'] < 31.206250)]\n",
    "quart4 = titanic_data_sorted.loc[(titanic_data_sorted['Fare'] > 31.206250)]"
   ]
  },
  {
   "cell_type": "code",
   "execution_count": 27,
   "id": "5947927a",
   "metadata": {},
   "outputs": [
    {
     "data": {
      "text/plain": [
       "[44, 66, 100, 129]"
      ]
     },
     "execution_count": 27,
     "metadata": {},
     "output_type": "execute_result"
    }
   ],
   "source": [
    "#Count of Survived passengers by quartile\n",
    "q1surv = quart1['Survived'].sum()\n",
    "q2surv = quart2['Survived'].sum()\n",
    "q3surv = quart3['Survived'].sum()\n",
    "q4surv = quart4['Survived'].sum()\n",
    "\n",
    "qsurv = [q1surv, q2surv, q3surv, q4surv]\n",
    "qsurv"
   ]
  },
  {
   "cell_type": "code",
   "execution_count": 28,
   "id": "e1529f78",
   "metadata": {},
   "outputs": [
    {
     "data": {
      "text/plain": [
       "([<matplotlib.axis.XTick at 0x7fde48e695e0>,\n",
       "  <matplotlib.axis.XTick at 0x7fde48e695b0>,\n",
       "  <matplotlib.axis.XTick at 0x7fde48e73fd0>,\n",
       "  <matplotlib.axis.XTick at 0x7fde48e99b50>],\n",
       " [Text(0, 0, '1st Quartile'),\n",
       "  Text(1, 0, '2nd Quartile'),\n",
       "  Text(2, 0, '3rd Quartile'),\n",
       "  Text(3, 0, '4th Quartile')])"
      ]
     },
     "execution_count": 28,
     "metadata": {},
     "output_type": "execute_result"
    },
    {
     "data": {
      "image/png": "[encoded data removed]",
      "text/plain": [
       "<Figure size 432x288 with 1 Axes>"
      ]
     },
     "metadata": {
      "needs_background": "light"
     },
     "output_type": "display_data"
    }
   ],
   "source": [
    "#Bar graph for fare quartile vs survival count\n",
    "x = ['1st Quartile', '2nd Quartile', '3rd Quartile', '4th Quartile']\n",
    "x_axis = np.arange(len(x))\n",
    "plt.bar(x_axis, qsurv)\n",
    "plt.xlabel('Fare Quartiles')\n",
    "plt.ylabel('Number of Passengers')\n",
    "plt.title('Num of Passengers Who Survived Per Fare Quartile')\n",
    "\n",
    "#best fit line\n",
    "m, b = np.polyfit(x_axis, qsurv, 1)\n",
    "surv_f = [float(x) for x in qsurv]\n",
    "plt.plot (x_axis, m*x_axis+b, 'm-')\n",
    "\n",
    "#gets rid of numerical ticks on bottom, change to var x values\n",
    "plt.xticks(x_axis, x)"
   ]
  },
  {
   "cell_type": "markdown",
   "id": "920afeb1",
   "metadata": {},
   "source": [
    "Though not perfect, it is clear there is some linear correlation between how much a passenger pays for their ticket and whether or not they survived. Passengers who paid an amount in the first quartile had the lowest number of survived passengers, whereas passengers who paid higher amounts such as the fourth quartile had a much higher number of survived passengers. It is very interesting how there seems to be a linear relationship at all; while I expected there to be a positive correlation between ticket price and survival rate, I did not know what to expect in terms of the actual relationship. "
   ]
  },
  {
   "cell_type": "code",
   "execution_count": 29,
   "id": "6f18d0bf",
   "metadata": {},
   "outputs": [
    {
     "name": "stdout",
     "output_type": "stream",
     "text": [
      "[30, 41, 65, 95] [14, 25, 35, 34]\n"
     ]
    }
   ],
   "source": [
    "#Split these fare quartiles by gender, see who survived\n",
    "q1sexsurv = quart1.groupby(['Sex'])['Survived'].sum().tolist()\n",
    "q2sexsurv = quart2.groupby(['Sex'])['Survived'].sum().tolist()\n",
    "q3sexsurv = quart3.groupby(['Sex'])['Survived'].sum().tolist()\n",
    "q4sexsurv = quart4.groupby(['Sex'])['Survived'].sum().tolist()\n",
    "\n",
    "qsexsurv = [q1sexsurv, q2sexsurv, q3sexsurv, q4sexsurv]\n",
    "qsexsurv\n",
    "\n",
    "#Rearrange values into male and female lists\n",
    "female = []\n",
    "male = []\n",
    "for quartile in qsexsurv:\n",
    "    female.append(quartile[0])\n",
    "    male.append(quartile[1])\n",
    "print(female, male)"
   ]
  },
  {
   "cell_type": "code",
   "execution_count": 30,
   "id": "e2cc2637",
   "metadata": {},
   "outputs": [
    {
     "data": {
      "image/png": "[encoded data removed]",
      "text/plain": [
       "<Figure size 432x288 with 1 Axes>"
      ]
     },
     "metadata": {
      "needs_background": "light"
     },
     "output_type": "display_data"
    }
   ],
   "source": [
    "x = ['1st Quartile', '2nd Quartile', '3rd Quartile', '4th Quartile']\n",
    "x_axis = np.arange(len(x))\n",
    "plt.bar(x_axis - .2, male, .4, label = 'Male')\n",
    "plt.bar(x_axis + .2, female, .4, label = 'Female')\n",
    "\n",
    "#gets rid of numerical ticks on bottom, change to var x values\n",
    "plt.xticks(x_axis, x)\n",
    "\n",
    "plt.xlabel('Fare Quartiles')\n",
    "plt.ylabel('Number of Passengers')\n",
    "plt.title('Num of Survived Per Gender Per Fare Quartile')\n",
    "plt.legend()\n",
    "plt.show()"
   ]
  },
  {
   "cell_type": "code",
   "execution_count": 31,
   "id": "fc9bf5f3",
   "metadata": {},
   "outputs": [
    {
     "name": "stdout",
     "output_type": "stream",
     "text": [
      "[91, 69, 71] [45, 17, 46]\n"
     ]
    }
   ],
   "source": [
    "#Switch to looking at classes rather than fare quartiles\n",
    "class1 = titanic_data.loc[(titanic_data['Pclass'] == 1)]\n",
    "class2 = titanic_data.loc[(titanic_data['Pclass'] == 2)]\n",
    "class3 = titanic_data.loc[(titanic_data['Pclass'] == 3)]\n",
    "\n",
    "c1sexsurv = class1.groupby(['Sex'])['Survived'].sum().tolist()\n",
    "c2sexsurv = class2.groupby(['Sex'])['Survived'].sum().tolist()\n",
    "c3sexsurv = class3.groupby(['Sex'])['Survived'].sum().tolist()\n",
    "\n",
    "csexsurv = [c1sexsurv, c2sexsurv, c3sexsurv]\n",
    "csexsurv\n",
    "\n",
    "femaleclass = []\n",
    "maleclass = []\n",
    "for cl in csexsurv:\n",
    "    femaleclass.append(cl[0])\n",
    "    maleclass.append(cl[1])\n",
    "print(femaleclass, maleclass)"
   ]
  },
  {
   "cell_type": "code",
   "execution_count": 32,
   "id": "9c696413",
   "metadata": {},
   "outputs": [
    {
     "data": {
      "image/png": "[encoded data removed]",
      "text/plain": [
       "<Figure size 432x288 with 1 Axes>"
      ]
     },
     "metadata": {
      "needs_background": "light"
     },
     "output_type": "display_data"
    }
   ],
   "source": [
    "x = ['First Class', 'Middle Class', 'Third Class']\n",
    "x_axis = np.arange(len(x))\n",
    "plt.bar(x_axis - .2, maleclass, .4, label = 'Male')\n",
    "plt.bar(x_axis + .2, femaleclass, .4, label = 'Female')\n",
    "\n",
    "#gets rid of numerical ticks on bottom, change to var x values\n",
    "plt.xticks(x_axis, x)\n",
    "\n",
    "plt.xlabel('Passenger Class')\n",
    "plt.ylabel('Number of Passengers')\n",
    "plt.title('Num of Survived Per Gender Per Class')\n",
    "plt.legend()\n",
    "plt.show()"
   ]
  },
  {
   "cell_type": "markdown",
   "id": "592fa7cb",
   "metadata": {},
   "source": [
    "Seeing the bars, I am curious about the percentage breakdowns by class and by gender. I first create pie charts by gender split by class, then I create pie charts by class split by gender. "
   ]
  },
  {
   "cell_type": "code",
   "execution_count": 33,
   "id": "ada1a8ce",
   "metadata": {},
   "outputs": [
    {
     "data": {
      "image/png": "[encoded data removed]",
      "text/plain": [
       "<Figure size 432x288 with 1 Axes>"
      ]
     },
     "metadata": {},
     "output_type": "display_data"
    }
   ],
   "source": [
    "#Pie Chart splitting survived female passengers by class\n",
    "labels = 'First Class', 'Middle Class', 'Third Class'\n",
    "plt.pie(femaleclass, labels = labels, autopct = '%1.1f%%',startangle = 90)\n",
    "plt.title('Survived Female Passenger Class Breakdown')\n",
    "plt.show()"
   ]
  },
  {
   "cell_type": "code",
   "execution_count": 34,
   "id": "721b5280",
   "metadata": {},
   "outputs": [
    {
     "data": {
      "image/png": "[encoded data removed]",
      "text/plain": [
       "<Figure size 432x288 with 1 Axes>"
      ]
     },
     "metadata": {},
     "output_type": "display_data"
    }
   ],
   "source": [
    "#Pie Chart splitting survived male passengers by class\n",
    "labels = 'First Class', 'Middle Class', 'Third Class'\n",
    "plt.pie(maleclass, labels = labels, autopct = '%1.1f%%',startangle = 90)\n",
    "plt.title('Survived Male Passenger Class Breakdown')\n",
    "plt.show()"
   ]
  },
  {
   "cell_type": "code",
   "execution_count": 35,
   "id": "fa053caa",
   "metadata": {},
   "outputs": [
    {
     "data": {
      "image/png": "[encoded data removed]",
      "text/plain": [
       "<Figure size 432x288 with 1 Axes>"
      ]
     },
     "metadata": {},
     "output_type": "display_data"
    }
   ],
   "source": [
    "#Pie Chart splitting survived first class passengers by gender\n",
    "labels = 'Female', 'Male'\n",
    "plt.pie(c1sexsurv, labels = labels, autopct = '%1.1f%%',startangle = 90)\n",
    "plt.title('First Class Survived Gender Breakdown')\n",
    "plt.show()"
   ]
  },
  {
   "cell_type": "code",
   "execution_count": 36,
   "id": "36a94b9f",
   "metadata": {},
   "outputs": [
    {
     "data": {
      "image/png": "[encoded data removed]",
      "text/plain": [
       "<Figure size 432x288 with 1 Axes>"
      ]
     },
     "metadata": {},
     "output_type": "display_data"
    }
   ],
   "source": [
    "#Pie Chart splitting survived middle class passengers by gender\n",
    "labels = 'Female', 'Male'\n",
    "plt.pie(c2sexsurv, labels = labels, autopct = '%1.1f%%',startangle = 90)\n",
    "plt.title('Middle Class Survived Gender Breakdown')\n",
    "plt.show()"
   ]
  },
  {
   "cell_type": "markdown",
   "id": "d5607f74",
   "metadata": {},
   "source": []
  },
  {
   "cell_type": "code",
   "execution_count": 37,
   "id": "f8412ab8",
   "metadata": {},
   "outputs": [
    {
     "data": {
      "image/png": "[encoded data removed]",
      "text/plain": [
       "<Figure size 432x288 with 1 Axes>"
      ]
     },
     "metadata": {},
     "output_type": "display_data"
    }
   ],
   "source": [
    "#Pie Chart splitting survived third class passengers by gender\n",
    "labels = 'Female', 'Male'\n",
    "plt.pie(c3sexsurv, labels = labels, autopct = '%1.1f%%',startangle = 90)\n",
    "plt.title('Third Class Survived Gender Breakdown')\n",
    "plt.show()"
   ]
  },
  {
   "cell_type": "code",
   "execution_count": 38,
   "id": "2ba6bbe2",
   "metadata": {},
   "outputs": [],
   "source": [
    "#group by pclass, compare survival rates\n",
    "data = titanic_data.filter(items = ['Pclass', 'Survived'])\n",
    "\n",
    "survived = data.loc[data['Survived'] == 1].groupby(['Pclass']).size()\n",
    "died = data.loc[data['Survived'] == 0].groupby(['Pclass']).size()"
   ]
  },
  {
   "cell_type": "code",
   "execution_count": 39,
   "id": "d119201b",
   "metadata": {},
   "outputs": [],
   "source": [
    "survived_lst = survived.to_list()\n",
    "died_lst = died.to_list()"
   ]
  },
  {
   "cell_type": "code",
   "execution_count": 40,
   "id": "22b30713",
   "metadata": {},
   "outputs": [
    {
     "data": {
      "image/png": "[encoded data removed]",
      "text/plain": [
       "<Figure size 432x288 with 1 Axes>"
      ]
     },
     "metadata": {
      "needs_background": "light"
     },
     "output_type": "display_data"
    }
   ],
   "source": [
    "x = ['First Class', 'Middle Class', 'Third Class']\n",
    "X_axis = np.arange(len(x))\n",
    "plt.bar(X_axis - .2, survived_lst, .4, label = 'Survived')\n",
    "plt.bar(X_axis + .2, died_lst, .4, label = 'Died')\n",
    "\n",
    "#gets rid of numerical ticks on bottom, change to var x values\n",
    "plt.xticks(X_axis, x)\n",
    "\n",
    "plt.xlabel('Passenger Classes')\n",
    "plt.ylabel('Number of Passengers')\n",
    "plt.title('Num of Passengers Who Survived vs. Died Per Class')\n",
    "plt.legend()\n",
    "plt.show()"
   ]
  },
  {
   "cell_type": "markdown",
   "id": "4c9b56aa",
   "metadata": {},
   "source": [
    "Obviously, there are much more third class passengers than first class and second class, but I am curious to visualize the split of classes."
   ]
  },
  {
   "cell_type": "code",
   "execution_count": 41,
   "id": "32f43ab9",
   "metadata": {},
   "outputs": [
    {
     "data": {
      "image/png": "[encoded data removed]",
      "text/plain": [
       "<Figure size 432x288 with 1 Axes>"
      ]
     },
     "metadata": {},
     "output_type": "display_data"
    }
   ],
   "source": [
    "#Pie Chart splitting passengers by class\n",
    "classsize = titanic_data.groupby(['Pclass']).size()\n",
    "classsize_lst = classsize.to_list()\n",
    "\n",
    "labels = 'First Class', 'Middle Class', 'Third Class'\n",
    "plt.pie(classsize_lst, labels = labels, autopct = '%1.1f%%',startangle = 90)\n",
    "plt.title('Passenger Class Breakdown')\n",
    "plt.show()"
   ]
  },
  {
   "cell_type": "markdown",
   "id": "6ab52d87",
   "metadata": {},
   "source": [
    "Overall, I wish I had more time; me being relatively new to Pandas meant I spent a significant amount of time figuring out which methods to use for each step, and I struggled with just having so many errors (type error, assignment error, x+y must be same shape, df does not support __ method, etc) until finally something worked. \n",
    "\n",
    "The portion I struggled the most on was definitely cleaning up the Age column. I felt like there were just so many ways to go about filling in these NaN values (obviously removing these passengers would be a bad idea, but possibilities such as finding mean age using combination of different columns). I tried many, many different methods, but halfway through I would realize the way I was attemping to do it was incredibly inefficient, and then I switched or altered my process by reducing the number of columns I wanted to use. I would love to learn of more efficient ways to perform similar calculations and transformations I did.\n",
    "\n",
    "If I could do this again, I would probably try to take a crashcourse on Pandas before just diving in; that would probably have introduced me to some more relevant methods that I could have used in this little project!\n",
    "\n",
    "Given more time, I would love to look at the survival rates by age. Obviously, the average age of women per passenger class who lived would be different from that of men. However, this would create a lot of different subcategories, and I would need a lot of time brainstorming how to organize this information into a single graph to better visualize the categories. "
   ]
  },
  {
   "cell_type": "code",
   "execution_count": null,
   "id": "da2cd1c4",
   "metadata": {},
   "outputs": [],
   "source": []
  }
 ],
 "metadata": {
  "kernelspec": {
   "display_name": "Python 3",
   "language": "python",
   "name": "python3"
  },
  "language_info": {
   "codemirror_mode": {
    "name": "ipython",
    "version": 3
   },
   "file_extension": ".py",
   "mimetype": "text/x-python",
   "name": "python",
   "nbconvert_exporter": "python",
   "pygments_lexer": "ipython3",
   "version": "3.8.8"
  }
 },
 "nbformat": 4,
 "nbformat_minor": 5
}
